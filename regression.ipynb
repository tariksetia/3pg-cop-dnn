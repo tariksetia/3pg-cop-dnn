{
 "cells": [
  {
   "cell_type": "code",
   "execution_count": 1,
   "metadata": {},
   "outputs": [],
   "source": [
    "import pathlib\n",
    "\n",
    "import matplotlib.pyplot as plt\n",
    "import pandas as pd\n",
    "import seaborn as sns\n",
    "\n",
    "import tensorflow as tf\n",
    "from tensorflow import keras\n",
    "from tensorflow.keras import layers"
   ]
  },
  {
   "cell_type": "markdown",
   "metadata": {},
   "source": [
    "### The Auto MPG Dataset"
   ]
  },
  {
   "cell_type": "code",
   "execution_count": 2,
   "metadata": {},
   "outputs": [
    {
     "name": "stdout",
     "output_type": "stream",
     "text": [
      "Downloading data from http://archive.ics.uci.edu/ml/machine-learning-databases/auto-mpg/auto-mpg.data\n",
      "32768/30286 [================================] - 0s 1us/step\n"
     ]
    }
   ],
   "source": [
    "# Download Dataset\n",
    "dataset_path = keras.utils.get_file(\"auto-mpg.data\", \"http://archive.ics.uci.edu/ml/machine-learning-databases/auto-mpg/auto-mpg.data\")"
   ]
  },
  {
   "cell_type": "code",
   "execution_count": 3,
   "metadata": {},
   "outputs": [
    {
     "data": {
      "text/plain": [
       "'/Users/tarik.setia/.keras/datasets/auto-mpg.data'"
      ]
     },
     "execution_count": 3,
     "metadata": {},
     "output_type": "execute_result"
    }
   ],
   "source": [
    "# Path\n",
    "dataset_path"
   ]
  },
  {
   "cell_type": "markdown",
   "metadata": {},
   "source": [
    "#### Import data into Pandas"
   ]
  },
  {
   "cell_type": "code",
   "execution_count": 5,
   "metadata": {},
   "outputs": [
    {
     "data": {
      "text/html": [
       "<div>\n",
       "<style scoped>\n",
       "    .dataframe tbody tr th:only-of-type {\n",
       "        vertical-align: middle;\n",
       "    }\n",
       "\n",
       "    .dataframe tbody tr th {\n",
       "        vertical-align: top;\n",
       "    }\n",
       "\n",
       "    .dataframe thead th {\n",
       "        text-align: right;\n",
       "    }\n",
       "</style>\n",
       "<table border=\"1\" class=\"dataframe\">\n",
       "  <thead>\n",
       "    <tr style=\"text-align: right;\">\n",
       "      <th></th>\n",
       "      <th>MPG</th>\n",
       "      <th>Cylinders</th>\n",
       "      <th>Displacement</th>\n",
       "      <th>Horsepower</th>\n",
       "      <th>Weight</th>\n",
       "      <th>Acceleration</th>\n",
       "      <th>Model Year</th>\n",
       "      <th>Origin</th>\n",
       "    </tr>\n",
       "  </thead>\n",
       "  <tbody>\n",
       "    <tr>\n",
       "      <td>393</td>\n",
       "      <td>27.0</td>\n",
       "      <td>4</td>\n",
       "      <td>140.0</td>\n",
       "      <td>86.0</td>\n",
       "      <td>2790.0</td>\n",
       "      <td>15.6</td>\n",
       "      <td>82</td>\n",
       "      <td>1</td>\n",
       "    </tr>\n",
       "    <tr>\n",
       "      <td>394</td>\n",
       "      <td>44.0</td>\n",
       "      <td>4</td>\n",
       "      <td>97.0</td>\n",
       "      <td>52.0</td>\n",
       "      <td>2130.0</td>\n",
       "      <td>24.6</td>\n",
       "      <td>82</td>\n",
       "      <td>2</td>\n",
       "    </tr>\n",
       "    <tr>\n",
       "      <td>395</td>\n",
       "      <td>32.0</td>\n",
       "      <td>4</td>\n",
       "      <td>135.0</td>\n",
       "      <td>84.0</td>\n",
       "      <td>2295.0</td>\n",
       "      <td>11.6</td>\n",
       "      <td>82</td>\n",
       "      <td>1</td>\n",
       "    </tr>\n",
       "    <tr>\n",
       "      <td>396</td>\n",
       "      <td>28.0</td>\n",
       "      <td>4</td>\n",
       "      <td>120.0</td>\n",
       "      <td>79.0</td>\n",
       "      <td>2625.0</td>\n",
       "      <td>18.6</td>\n",
       "      <td>82</td>\n",
       "      <td>1</td>\n",
       "    </tr>\n",
       "    <tr>\n",
       "      <td>397</td>\n",
       "      <td>31.0</td>\n",
       "      <td>4</td>\n",
       "      <td>119.0</td>\n",
       "      <td>82.0</td>\n",
       "      <td>2720.0</td>\n",
       "      <td>19.4</td>\n",
       "      <td>82</td>\n",
       "      <td>1</td>\n",
       "    </tr>\n",
       "  </tbody>\n",
       "</table>\n",
       "</div>"
      ],
      "text/plain": [
       "      MPG  Cylinders  Displacement  Horsepower  Weight  Acceleration  \\\n",
       "393  27.0          4         140.0        86.0  2790.0          15.6   \n",
       "394  44.0          4          97.0        52.0  2130.0          24.6   \n",
       "395  32.0          4         135.0        84.0  2295.0          11.6   \n",
       "396  28.0          4         120.0        79.0  2625.0          18.6   \n",
       "397  31.0          4         119.0        82.0  2720.0          19.4   \n",
       "\n",
       "     Model Year  Origin  \n",
       "393          82       1  \n",
       "394          82       2  \n",
       "395          82       1  \n",
       "396          82       1  \n",
       "397          82       1  "
      ]
     },
     "execution_count": 5,
     "metadata": {},
     "output_type": "execute_result"
    }
   ],
   "source": [
    "column_names = ['MPG','Cylinders','Displacement','Horsepower','Weight',\n",
    "                'Acceleration', 'Model Year', 'Origin']\n",
    "raw_dataset = pd.read_csv(dataset_path, names=column_names,\n",
    "                      na_values = \"?\", comment='\\t',\n",
    "                      sep=\" \", skipinitialspace=True)\n",
    "\n",
    "dataset = raw_dataset.copy()\n",
    "dataset.tail()"
   ]
  },
  {
   "cell_type": "markdown",
   "metadata": {},
   "source": [
    "#### Clean The Dataset"
   ]
  },
  {
   "cell_type": "code",
   "execution_count": 6,
   "metadata": {},
   "outputs": [
    {
     "data": {
      "text/plain": [
       "MPG             0\n",
       "Cylinders       0\n",
       "Displacement    0\n",
       "Horsepower      6\n",
       "Weight          0\n",
       "Acceleration    0\n",
       "Model Year      0\n",
       "Origin          0\n",
       "dtype: int64"
      ]
     },
     "execution_count": 6,
     "metadata": {},
     "output_type": "execute_result"
    }
   ],
   "source": [
    "dataset.isna().sum()"
   ]
  },
  {
   "cell_type": "code",
   "execution_count": 7,
   "metadata": {},
   "outputs": [],
   "source": [
    "dataset = dataset.dropna()"
   ]
  },
  {
   "cell_type": "markdown",
   "metadata": {},
   "source": [
    "The \"Origin\" column is really categorical, not numeric. So convert that to a one-hot:"
   ]
  },
  {
   "cell_type": "code",
   "execution_count": 8,
   "metadata": {},
   "outputs": [],
   "source": [
    "origin = dataset.pop('Origin')"
   ]
  },
  {
   "cell_type": "code",
   "execution_count": 9,
   "metadata": {},
   "outputs": [
    {
     "data": {
      "text/html": [
       "<div>\n",
       "<style scoped>\n",
       "    .dataframe tbody tr th:only-of-type {\n",
       "        vertical-align: middle;\n",
       "    }\n",
       "\n",
       "    .dataframe tbody tr th {\n",
       "        vertical-align: top;\n",
       "    }\n",
       "\n",
       "    .dataframe thead th {\n",
       "        text-align: right;\n",
       "    }\n",
       "</style>\n",
       "<table border=\"1\" class=\"dataframe\">\n",
       "  <thead>\n",
       "    <tr style=\"text-align: right;\">\n",
       "      <th></th>\n",
       "      <th>MPG</th>\n",
       "      <th>Cylinders</th>\n",
       "      <th>Displacement</th>\n",
       "      <th>Horsepower</th>\n",
       "      <th>Weight</th>\n",
       "      <th>Acceleration</th>\n",
       "      <th>Model Year</th>\n",
       "      <th>USA</th>\n",
       "      <th>Europe</th>\n",
       "      <th>Japan</th>\n",
       "    </tr>\n",
       "  </thead>\n",
       "  <tbody>\n",
       "    <tr>\n",
       "      <td>393</td>\n",
       "      <td>27.0</td>\n",
       "      <td>4</td>\n",
       "      <td>140.0</td>\n",
       "      <td>86.0</td>\n",
       "      <td>2790.0</td>\n",
       "      <td>15.6</td>\n",
       "      <td>82</td>\n",
       "      <td>1.0</td>\n",
       "      <td>0.0</td>\n",
       "      <td>0.0</td>\n",
       "    </tr>\n",
       "    <tr>\n",
       "      <td>394</td>\n",
       "      <td>44.0</td>\n",
       "      <td>4</td>\n",
       "      <td>97.0</td>\n",
       "      <td>52.0</td>\n",
       "      <td>2130.0</td>\n",
       "      <td>24.6</td>\n",
       "      <td>82</td>\n",
       "      <td>0.0</td>\n",
       "      <td>1.0</td>\n",
       "      <td>0.0</td>\n",
       "    </tr>\n",
       "    <tr>\n",
       "      <td>395</td>\n",
       "      <td>32.0</td>\n",
       "      <td>4</td>\n",
       "      <td>135.0</td>\n",
       "      <td>84.0</td>\n",
       "      <td>2295.0</td>\n",
       "      <td>11.6</td>\n",
       "      <td>82</td>\n",
       "      <td>1.0</td>\n",
       "      <td>0.0</td>\n",
       "      <td>0.0</td>\n",
       "    </tr>\n",
       "    <tr>\n",
       "      <td>396</td>\n",
       "      <td>28.0</td>\n",
       "      <td>4</td>\n",
       "      <td>120.0</td>\n",
       "      <td>79.0</td>\n",
       "      <td>2625.0</td>\n",
       "      <td>18.6</td>\n",
       "      <td>82</td>\n",
       "      <td>1.0</td>\n",
       "      <td>0.0</td>\n",
       "      <td>0.0</td>\n",
       "    </tr>\n",
       "    <tr>\n",
       "      <td>397</td>\n",
       "      <td>31.0</td>\n",
       "      <td>4</td>\n",
       "      <td>119.0</td>\n",
       "      <td>82.0</td>\n",
       "      <td>2720.0</td>\n",
       "      <td>19.4</td>\n",
       "      <td>82</td>\n",
       "      <td>1.0</td>\n",
       "      <td>0.0</td>\n",
       "      <td>0.0</td>\n",
       "    </tr>\n",
       "  </tbody>\n",
       "</table>\n",
       "</div>"
      ],
      "text/plain": [
       "      MPG  Cylinders  Displacement  Horsepower  Weight  Acceleration  \\\n",
       "393  27.0          4         140.0        86.0  2790.0          15.6   \n",
       "394  44.0          4          97.0        52.0  2130.0          24.6   \n",
       "395  32.0          4         135.0        84.0  2295.0          11.6   \n",
       "396  28.0          4         120.0        79.0  2625.0          18.6   \n",
       "397  31.0          4         119.0        82.0  2720.0          19.4   \n",
       "\n",
       "     Model Year  USA  Europe  Japan  \n",
       "393          82  1.0     0.0    0.0  \n",
       "394          82  0.0     1.0    0.0  \n",
       "395          82  1.0     0.0    0.0  \n",
       "396          82  1.0     0.0    0.0  \n",
       "397          82  1.0     0.0    0.0  "
      ]
     },
     "execution_count": 9,
     "metadata": {},
     "output_type": "execute_result"
    }
   ],
   "source": [
    "dataset['USA'] = (origin == 1)*1.0\n",
    "dataset['Europe'] = (origin == 2)*1.0\n",
    "dataset['Japan'] = (origin == 3)*1.0\n",
    "dataset.tail()"
   ]
  },
  {
   "cell_type": "code",
   "execution_count": 10,
   "metadata": {},
   "outputs": [],
   "source": [
    "train_dataset = dataset.sample(frac=0.8,random_state=0)\n",
    "test_dataset = dataset.drop(train_dataset.index)"
   ]
  },
  {
   "cell_type": "code",
   "execution_count": 11,
   "metadata": {},
   "outputs": [
    {
     "data": {
      "text/html": [
       "<div>\n",
       "<style scoped>\n",
       "    .dataframe tbody tr th:only-of-type {\n",
       "        vertical-align: middle;\n",
       "    }\n",
       "\n",
       "    .dataframe tbody tr th {\n",
       "        vertical-align: top;\n",
       "    }\n",
       "\n",
       "    .dataframe thead th {\n",
       "        text-align: right;\n",
       "    }\n",
       "</style>\n",
       "<table border=\"1\" class=\"dataframe\">\n",
       "  <thead>\n",
       "    <tr style=\"text-align: right;\">\n",
       "      <th></th>\n",
       "      <th>count</th>\n",
       "      <th>mean</th>\n",
       "      <th>std</th>\n",
       "      <th>min</th>\n",
       "      <th>25%</th>\n",
       "      <th>50%</th>\n",
       "      <th>75%</th>\n",
       "      <th>max</th>\n",
       "    </tr>\n",
       "  </thead>\n",
       "  <tbody>\n",
       "    <tr>\n",
       "      <td>Cylinders</td>\n",
       "      <td>314.0</td>\n",
       "      <td>5.477707</td>\n",
       "      <td>1.699788</td>\n",
       "      <td>3.0</td>\n",
       "      <td>4.00</td>\n",
       "      <td>4.0</td>\n",
       "      <td>8.00</td>\n",
       "      <td>8.0</td>\n",
       "    </tr>\n",
       "    <tr>\n",
       "      <td>Displacement</td>\n",
       "      <td>314.0</td>\n",
       "      <td>195.318471</td>\n",
       "      <td>104.331589</td>\n",
       "      <td>68.0</td>\n",
       "      <td>105.50</td>\n",
       "      <td>151.0</td>\n",
       "      <td>265.75</td>\n",
       "      <td>455.0</td>\n",
       "    </tr>\n",
       "    <tr>\n",
       "      <td>Horsepower</td>\n",
       "      <td>314.0</td>\n",
       "      <td>104.869427</td>\n",
       "      <td>38.096214</td>\n",
       "      <td>46.0</td>\n",
       "      <td>76.25</td>\n",
       "      <td>94.5</td>\n",
       "      <td>128.00</td>\n",
       "      <td>225.0</td>\n",
       "    </tr>\n",
       "    <tr>\n",
       "      <td>Weight</td>\n",
       "      <td>314.0</td>\n",
       "      <td>2990.251592</td>\n",
       "      <td>843.898596</td>\n",
       "      <td>1649.0</td>\n",
       "      <td>2256.50</td>\n",
       "      <td>2822.5</td>\n",
       "      <td>3608.00</td>\n",
       "      <td>5140.0</td>\n",
       "    </tr>\n",
       "    <tr>\n",
       "      <td>Acceleration</td>\n",
       "      <td>314.0</td>\n",
       "      <td>15.559236</td>\n",
       "      <td>2.789230</td>\n",
       "      <td>8.0</td>\n",
       "      <td>13.80</td>\n",
       "      <td>15.5</td>\n",
       "      <td>17.20</td>\n",
       "      <td>24.8</td>\n",
       "    </tr>\n",
       "    <tr>\n",
       "      <td>Model Year</td>\n",
       "      <td>314.0</td>\n",
       "      <td>75.898089</td>\n",
       "      <td>3.675642</td>\n",
       "      <td>70.0</td>\n",
       "      <td>73.00</td>\n",
       "      <td>76.0</td>\n",
       "      <td>79.00</td>\n",
       "      <td>82.0</td>\n",
       "    </tr>\n",
       "    <tr>\n",
       "      <td>USA</td>\n",
       "      <td>314.0</td>\n",
       "      <td>0.624204</td>\n",
       "      <td>0.485101</td>\n",
       "      <td>0.0</td>\n",
       "      <td>0.00</td>\n",
       "      <td>1.0</td>\n",
       "      <td>1.00</td>\n",
       "      <td>1.0</td>\n",
       "    </tr>\n",
       "    <tr>\n",
       "      <td>Europe</td>\n",
       "      <td>314.0</td>\n",
       "      <td>0.178344</td>\n",
       "      <td>0.383413</td>\n",
       "      <td>0.0</td>\n",
       "      <td>0.00</td>\n",
       "      <td>0.0</td>\n",
       "      <td>0.00</td>\n",
       "      <td>1.0</td>\n",
       "    </tr>\n",
       "    <tr>\n",
       "      <td>Japan</td>\n",
       "      <td>314.0</td>\n",
       "      <td>0.197452</td>\n",
       "      <td>0.398712</td>\n",
       "      <td>0.0</td>\n",
       "      <td>0.00</td>\n",
       "      <td>0.0</td>\n",
       "      <td>0.00</td>\n",
       "      <td>1.0</td>\n",
       "    </tr>\n",
       "  </tbody>\n",
       "</table>\n",
       "</div>"
      ],
      "text/plain": [
       "              count         mean         std     min      25%     50%  \\\n",
       "Cylinders     314.0     5.477707    1.699788     3.0     4.00     4.0   \n",
       "Displacement  314.0   195.318471  104.331589    68.0   105.50   151.0   \n",
       "Horsepower    314.0   104.869427   38.096214    46.0    76.25    94.5   \n",
       "Weight        314.0  2990.251592  843.898596  1649.0  2256.50  2822.5   \n",
       "Acceleration  314.0    15.559236    2.789230     8.0    13.80    15.5   \n",
       "Model Year    314.0    75.898089    3.675642    70.0    73.00    76.0   \n",
       "USA           314.0     0.624204    0.485101     0.0     0.00     1.0   \n",
       "Europe        314.0     0.178344    0.383413     0.0     0.00     0.0   \n",
       "Japan         314.0     0.197452    0.398712     0.0     0.00     0.0   \n",
       "\n",
       "                  75%     max  \n",
       "Cylinders        8.00     8.0  \n",
       "Displacement   265.75   455.0  \n",
       "Horsepower     128.00   225.0  \n",
       "Weight        3608.00  5140.0  \n",
       "Acceleration    17.20    24.8  \n",
       "Model Year      79.00    82.0  \n",
       "USA              1.00     1.0  \n",
       "Europe           0.00     1.0  \n",
       "Japan            0.00     1.0  "
      ]
     },
     "execution_count": 11,
     "metadata": {},
     "output_type": "execute_result"
    }
   ],
   "source": [
    "train_stats = train_dataset.describe()\n",
    "train_stats.pop(\"MPG\")\n",
    "train_stats = train_stats.transpose()\n",
    "train_stats"
   ]
  },
  {
   "cell_type": "code",
   "execution_count": 12,
   "metadata": {},
   "outputs": [],
   "source": [
    "train_labels = train_dataset.pop('MPG')\n",
    "test_labels = test_dataset.pop('MPG')"
   ]
  },
  {
   "cell_type": "markdown",
   "metadata": {},
   "source": [
    "#### Normalization or Data Scaling"
   ]
  },
  {
   "cell_type": "markdown",
   "metadata": {},
   "source": [
    "It is good practice to normalize features that use different scales and ranges. Although the model might converge without feature normalization, it makes training more difficult, and it makes the resulting model dependent on the choice of units used in the input."
   ]
  },
  {
   "cell_type": "code",
   "execution_count": 14,
   "metadata": {},
   "outputs": [],
   "source": [
    "def norm(x):\n",
    "  return (x - train_stats['mean']) / train_stats['std']"
   ]
  },
  {
   "cell_type": "code",
   "execution_count": 15,
   "metadata": {},
   "outputs": [],
   "source": [
    "normed_train_data = norm(train_dataset)\n",
    "normed_test_data = norm(test_dataset)"
   ]
  },
  {
   "cell_type": "markdown",
   "metadata": {},
   "source": [
    "#### Modelling"
   ]
  },
  {
   "cell_type": "markdown",
   "metadata": {},
   "source": [
    "##### Build The Model"
   ]
  },
  {
   "cell_type": "code",
   "execution_count": 18,
   "metadata": {},
   "outputs": [],
   "source": [
    "input_shape = [len(train_dataset.keys())]\n",
    "model = keras.Sequential()\n",
    "model.add(layers.Dense(64, activation=tf.nn.relu, input_shape=input_shape))\n",
    "model.add(layers.Dense(64, activation=tf.nn.relu))\n",
    "model.add(layers.Dense(1))"
   ]
  },
  {
   "cell_type": "code",
   "execution_count": 19,
   "metadata": {},
   "outputs": [
    {
     "name": "stdout",
     "output_type": "stream",
     "text": [
      "Model: \"sequential_2\"\n",
      "_________________________________________________________________\n",
      "Layer (type)                 Output Shape              Param #   \n",
      "=================================================================\n",
      "dense_3 (Dense)              (None, 64)                640       \n",
      "_________________________________________________________________\n",
      "dense_4 (Dense)              (None, 64)                4160      \n",
      "_________________________________________________________________\n",
      "dense_5 (Dense)              (None, 1)                 65        \n",
      "=================================================================\n",
      "Total params: 4,865\n",
      "Trainable params: 4,865\n",
      "Non-trainable params: 0\n",
      "_________________________________________________________________\n"
     ]
    }
   ],
   "source": [
    "model.summary()"
   ]
  },
  {
   "cell_type": "code",
   "execution_count": 34,
   "metadata": {},
   "outputs": [
    {
     "data": {
      "text/plain": [
       "[<tf.Variable 'dense_3/kernel:0' shape=(9, 64) dtype=float32, numpy=\n",
       " array([[-0.0101608 ,  0.20827788, -0.07146697, -0.08586022,  0.08948386,\n",
       "          0.21811244,  0.00618821, -0.24579984, -0.18639244, -0.14776604,\n",
       "          0.15807515,  0.09399867, -0.16379012,  0.09845096, -0.19883108,\n",
       "          0.02958992,  0.24268755, -0.00034997, -0.17855774,  0.03927991,\n",
       "         -0.07999367,  0.09025058, -0.12088725,  0.10983363, -0.03656524,\n",
       "         -0.15782835,  0.01943055,  0.10108909,  0.15910572, -0.13888712,\n",
       "         -0.14388922, -0.08230145,  0.0758273 , -0.22839019,  0.01388642,\n",
       "          0.20711076, -0.20306183, -0.25396878,  0.28655282,  0.14185151,\n",
       "          0.14742228, -0.15139234,  0.16450435,  0.0958384 , -0.12173906,\n",
       "          0.23111346, -0.06351894, -0.07005392, -0.02161387,  0.23396268,\n",
       "          0.2364383 ,  0.2540057 , -0.27323952, -0.24618173,  0.18980289,\n",
       "         -0.26513538, -0.09569389,  0.12643692, -0.1301795 , -0.2757776 ,\n",
       "          0.016478  , -0.21669652, -0.11370306,  0.12688443],\n",
       "        [-0.0331597 , -0.15474066, -0.02799842,  0.04745781,  0.15849239,\n",
       "         -0.0264293 ,  0.2041606 , -0.25214186,  0.28619155, -0.04614612,\n",
       "         -0.11549614,  0.11816633,  0.01808444,  0.19342592,  0.21108654,\n",
       "          0.19031936, -0.20285732, -0.12152825, -0.10334753, -0.14398834,\n",
       "          0.10624957,  0.24195495, -0.25376722, -0.19932562,  0.2160081 ,\n",
       "         -0.03313529,  0.03713065,  0.21449795, -0.10495846,  0.24150833,\n",
       "          0.11252946,  0.1544188 ,  0.26435474,  0.2528223 , -0.09115645,\n",
       "         -0.00638637,  0.00791487,  0.01757663, -0.06986636,  0.26075783,\n",
       "          0.12286296,  0.08321613,  0.01668656, -0.19072038, -0.23024808,\n",
       "          0.169864  , -0.16162232,  0.06616765, -0.03303626,  0.1257458 ,\n",
       "         -0.22768144, -0.23565689,  0.01008937, -0.03267044, -0.13904713,\n",
       "         -0.08702195,  0.16374397, -0.18420345,  0.22199252,  0.06238005,\n",
       "          0.02375036, -0.19402105, -0.1573086 ,  0.00601673],\n",
       "        [ 0.17957687,  0.23190376, -0.08582461, -0.1755062 ,  0.14359361,\n",
       "         -0.14021623,  0.25290933,  0.12055483,  0.01116073, -0.27611718,\n",
       "         -0.08240999,  0.2287642 , -0.22530948,  0.21788415, -0.23409085,\n",
       "         -0.1678482 , -0.18061009,  0.05165383,  0.24520245,  0.03686988,\n",
       "         -0.15163602, -0.2518683 ,  0.07956538, -0.02089167,  0.09851199,\n",
       "         -0.1548788 , -0.19511127,  0.20372888, -0.00554481,  0.09207955,\n",
       "          0.24923703, -0.01696351, -0.1632286 , -0.11287011,  0.02842316,\n",
       "         -0.18790755,  0.02537066, -0.03987049, -0.17748782,  0.15824571,\n",
       "          0.09716654,  0.26631442, -0.05669859,  0.21608672,  0.25522146,\n",
       "         -0.04898754, -0.02932629,  0.02523014,  0.01865667, -0.27405185,\n",
       "          0.11240688, -0.11650291,  0.24032906, -0.27994874,  0.16162732,\n",
       "          0.14964935,  0.21862909, -0.03197345, -0.23221649,  0.22189382,\n",
       "         -0.18879619,  0.17423144, -0.0921995 ,  0.09561181],\n",
       "        [-0.17912328, -0.04489015, -0.21234602,  0.06122819,  0.09757966,\n",
       "         -0.22626975, -0.0761029 ,  0.15366125,  0.26046863, -0.1464385 ,\n",
       "         -0.15393807, -0.04851222,  0.13260478,  0.07287312,  0.11800689,\n",
       "         -0.01694655, -0.06963512, -0.12198642, -0.18014257, -0.13637005,\n",
       "         -0.275269  ,  0.13433814, -0.01516324, -0.20909743,  0.14604616,\n",
       "         -0.17920859,  0.24277666,  0.10635975,  0.0162167 ,  0.16129595,\n",
       "         -0.05099854, -0.26140404, -0.10399058,  0.21584967,  0.146256  ,\n",
       "         -0.20704657,  0.00364223,  0.16137856,  0.11268932, -0.2668913 ,\n",
       "          0.11791331,  0.16906822, -0.13598174,  0.24682692, -0.03366286,\n",
       "          0.08661851, -0.16160852, -0.20744924,  0.00140458,  0.07734591,\n",
       "         -0.14057454,  0.05597576,  0.02084458,  0.2024194 ,  0.07702067,\n",
       "          0.19323063, -0.13761939,  0.12008363, -0.1005519 , -0.28312016,\n",
       "         -0.09885348,  0.09832251, -0.11790147,  0.11643669],\n",
       "        [-0.2756463 ,  0.04651839,  0.02562693, -0.26522768, -0.04266801,\n",
       "          0.25844046, -0.17020418,  0.23605207,  0.27898946, -0.11022918,\n",
       "          0.22655502, -0.2749627 , -0.05728368, -0.18638375,  0.01670179,\n",
       "         -0.06956054,  0.20216894,  0.25543377,  0.17249754,  0.2719765 ,\n",
       "          0.0662894 ,  0.08426473, -0.03143612, -0.02247593, -0.1675249 ,\n",
       "          0.11076501,  0.0798353 , -0.21466869,  0.01345286,  0.22756752,\n",
       "          0.03191909,  0.01767862,  0.05586791,  0.06584975, -0.02462199,\n",
       "         -0.19887531, -0.2553406 , -0.12223324, -0.13981624, -0.22344995,\n",
       "          0.2533678 ,  0.25918028, -0.17034061,  0.06589171, -0.07394522,\n",
       "         -0.25954247,  0.17400914,  0.08506322, -0.06745598, -0.24341175,\n",
       "         -0.28380165, -0.01273632,  0.20041865,  0.20054299, -0.23381943,\n",
       "         -0.13600682,  0.08282921,  0.10393289, -0.07385671,  0.22603866,\n",
       "          0.18096504,  0.03984541,  0.10683671, -0.09380196],\n",
       "        [-0.06659015,  0.18529108,  0.23526523, -0.16775319, -0.24951828,\n",
       "         -0.28611475, -0.0640002 ,  0.05752027, -0.08268744,  0.06034896,\n",
       "          0.08259311, -0.25029886, -0.12493077,  0.18567577, -0.01690048,\n",
       "         -0.27250507, -0.28443655, -0.22379328, -0.06200664, -0.10567471,\n",
       "         -0.28505892, -0.19515365, -0.09453873,  0.03395471, -0.07183081,\n",
       "          0.19960517,  0.12726432,  0.02343664, -0.08179045, -0.00395542,\n",
       "         -0.07964301,  0.02981195,  0.07833564,  0.1640841 ,  0.27238622,\n",
       "         -0.04336999,  0.01549524,  0.1269378 ,  0.14742228, -0.0615333 ,\n",
       "          0.2640207 ,  0.19045806,  0.28373155, -0.10431287,  0.19039762,\n",
       "         -0.22228044, -0.17277607,  0.2611566 , -0.28482816,  0.23960462,\n",
       "         -0.09748343, -0.214154  ,  0.04278591, -0.14186777, -0.27067715,\n",
       "          0.05058527, -0.17231497,  0.1591168 , -0.04225762,  0.07310113,\n",
       "          0.05611411,  0.14133653,  0.09090567, -0.01133648],\n",
       "        [ 0.19706368, -0.14606543,  0.18312383, -0.06113638,  0.09926215,\n",
       "          0.24822679, -0.06582925, -0.2725301 , -0.272091  ,  0.09662089,\n",
       "          0.17533937, -0.1480871 ,  0.0098623 ,  0.21843067, -0.26224792,\n",
       "          0.17261955,  0.15822998,  0.19554052, -0.22931917, -0.2577687 ,\n",
       "         -0.23172326,  0.1436007 ,  0.2345579 ,  0.25128898, -0.27665758,\n",
       "          0.24571773, -0.09326136, -0.21450493,  0.10218102, -0.10221423,\n",
       "         -0.05670044,  0.1481398 ,  0.01590899, -0.27369052, -0.06718591,\n",
       "         -0.2059122 ,  0.18294701, -0.0921779 ,  0.10944375, -0.14057262,\n",
       "         -0.22786264, -0.00437832,  0.17609629,  0.03410393,  0.21426377,\n",
       "          0.13568735,  0.20226991, -0.01971471,  0.09677196, -0.13032706,\n",
       "          0.0627605 ,  0.27832773,  0.09349862,  0.12623063,  0.21145314,\n",
       "          0.10676748, -0.12727588, -0.03245813, -0.00940976, -0.22610435,\n",
       "         -0.03250098, -0.05953823, -0.16721998,  0.1178619 ],\n",
       "        [-0.04693738,  0.20917958, -0.02897754, -0.23815113,  0.04321325,\n",
       "         -0.12366489,  0.02637407,  0.22683361,  0.23947176, -0.06279919,\n",
       "         -0.2535565 ,  0.09046042,  0.14500836,  0.09476382,  0.02410647,\n",
       "          0.26152787, -0.07110032, -0.2508809 , -0.16965723,  0.06460443,\n",
       "         -0.07259232, -0.02163097, -0.21889392,  0.25079647, -0.24735664,\n",
       "          0.14837998,  0.05895066,  0.14995304, -0.08645126, -0.2633209 ,\n",
       "          0.1679616 ,  0.15247825, -0.26791295, -0.22437304,  0.21350005,\n",
       "         -0.15963265, -0.07545677, -0.20979106, -0.15816759, -0.21696556,\n",
       "          0.28264895,  0.17022666, -0.24880105,  0.22143868,  0.01567993,\n",
       "          0.11156753,  0.19728297,  0.05142766, -0.23531348, -0.1470966 ,\n",
       "          0.03769353,  0.02066782, -0.22977644, -0.10740903,  0.0273332 ,\n",
       "          0.00740373, -0.23185456,  0.05572936, -0.1432763 , -0.17464347,\n",
       "          0.14651409,  0.27775016, -0.26392296,  0.09264407],\n",
       "        [-0.20025884, -0.2159825 , -0.20846784, -0.05536476, -0.19012168,\n",
       "         -0.03224617,  0.24106976, -0.11252344, -0.23778865,  0.28332105,\n",
       "          0.03032279, -0.26285407,  0.06072694, -0.251391  , -0.02921009,\n",
       "          0.04377669, -0.23483801, -0.11731857, -0.21364874,  0.17686471,\n",
       "         -0.05653782,  0.1225729 ,  0.08526126,  0.0875814 ,  0.00527942,\n",
       "          0.27930465,  0.14731866,  0.00820148, -0.20061126, -0.20679703,\n",
       "          0.05875969, -0.13893872, -0.11817071,  0.27719054, -0.1934495 ,\n",
       "          0.01092088,  0.12685311,  0.16628936,  0.2594901 , -0.22820885,\n",
       "         -0.10572536,  0.13722956,  0.26641425, -0.13763136, -0.0146808 ,\n",
       "          0.16254091,  0.2829127 , -0.13631311,  0.05563018,  0.1856159 ,\n",
       "          0.21719071, -0.2335845 , -0.2693459 ,  0.18774131, -0.22360435,\n",
       "          0.0485507 , -0.14173435,  0.27717265, -0.19772568,  0.217567  ,\n",
       "         -0.11226875,  0.19160992,  0.08130288,  0.17244649]],\n",
       "       dtype=float32)>,\n",
       " <tf.Variable 'dense_3/bias:0' shape=(64,) dtype=float32, numpy=\n",
       " array([0., 0., 0., 0., 0., 0., 0., 0., 0., 0., 0., 0., 0., 0., 0., 0., 0.,\n",
       "        0., 0., 0., 0., 0., 0., 0., 0., 0., 0., 0., 0., 0., 0., 0., 0., 0.,\n",
       "        0., 0., 0., 0., 0., 0., 0., 0., 0., 0., 0., 0., 0., 0., 0., 0., 0.,\n",
       "        0., 0., 0., 0., 0., 0., 0., 0., 0., 0., 0., 0., 0.], dtype=float32)>]"
      ]
     },
     "execution_count": 34,
     "metadata": {},
     "output_type": "execute_result"
    }
   ],
   "source": [
    "model.layers[0].weights"
   ]
  },
  {
   "cell_type": "markdown",
   "metadata": {},
   "source": [
    "##### Let us try to make prediction on this untrained model\n",
    "Take a batch of 10 examples from the training data and call model.predict on it."
   ]
  },
  {
   "cell_type": "code",
   "execution_count": 40,
   "metadata": {},
   "outputs": [
    {
     "data": {
      "text/plain": [
       "array([[ 0.12262779],\n",
       "       [ 0.15393837],\n",
       "       [-0.1827798 ],\n",
       "       [ 0.36731938],\n",
       "       [-0.35578564],\n",
       "       [ 0.09139582],\n",
       "       [-0.30913576],\n",
       "       [-0.15643771],\n",
       "       [ 0.09058893],\n",
       "       [-0.28850204]], dtype=float32)"
      ]
     },
     "execution_count": 40,
     "metadata": {},
     "output_type": "execute_result"
    }
   ],
   "source": [
    "example_batch = normed_train_data[:10]\n",
    "example_result = model.predict(example_batch)\n",
    "example_result"
   ]
  }
 ],
 "metadata": {
  "kernelspec": {
   "display_name": "Python 3",
   "language": "python",
   "name": "python3"
  },
  "language_info": {
   "codemirror_mode": {
    "name": "ipython",
    "version": 3
   },
   "file_extension": ".py",
   "mimetype": "text/x-python",
   "name": "python",
   "nbconvert_exporter": "python",
   "pygments_lexer": "ipython3",
   "version": "3.5.6"
  }
 },
 "nbformat": 4,
 "nbformat_minor": 4
}
