{
 "cells": [
  {
   "cell_type": "markdown",
   "metadata": {},
   "source": [
    "### Setup Environment"
   ]
  },
  {
   "cell_type": "code",
   "execution_count": 2,
   "metadata": {},
   "outputs": [],
   "source": [
    "import pathlib, os\n",
    "import datetime\n",
    "\n",
    "import matplotlib.pyplot as plt\n",
    "import pandas as pd\n",
    "import seaborn as sns\n",
    "\n",
    "import tensorflow as tf\n",
    "from tensorflow import keras\n",
    "from tensorflow.keras import layers"
   ]
  },
  {
   "cell_type": "markdown",
   "metadata": {},
   "source": [
    "### The Auto MPG Dataset\n",
    "*Shamelessly borrowed from google's example for regression, writte by François Chollet, author of Deep Learnig with Python<br>\n",
    "<br>\n",
    "[![Open In Colab](https://colab.research.google.com/assets/colab-badge.svg)](https://colab.research.google.com/github/ttariksetia/3pg-cop-dnn/blob/master/regression.ipynb)"
   ]
  },
  {
   "cell_type": "code",
   "execution_count": 109,
   "metadata": {},
   "outputs": [],
   "source": [
    "# Download Dataset\n",
    "dataset_path = keras.utils.get_file(\"auto-mpg.data\", \"http://archive.ics.uci.edu/ml/machine-learning-databases/auto-mpg/auto-mpg.data\")"
   ]
  },
  {
   "cell_type": "code",
   "execution_count": 4,
   "metadata": {},
   "outputs": [
    {
     "data": {
      "text/plain": [
       "'/Users/tarik.setia/.keras/datasets/auto-mpg.data'"
      ]
     },
     "execution_count": 4,
     "metadata": {},
     "output_type": "execute_result"
    }
   ],
   "source": [
    "# Path\n",
    "dataset_path"
   ]
  },
  {
   "cell_type": "markdown",
   "metadata": {},
   "source": [
    "#### Import data into Pandas"
   ]
  },
  {
   "cell_type": "code",
   "execution_count": 5,
   "metadata": {},
   "outputs": [
    {
     "data": {
      "text/html": [
       "<div>\n",
       "<style scoped>\n",
       "    .dataframe tbody tr th:only-of-type {\n",
       "        vertical-align: middle;\n",
       "    }\n",
       "\n",
       "    .dataframe tbody tr th {\n",
       "        vertical-align: top;\n",
       "    }\n",
       "\n",
       "    .dataframe thead th {\n",
       "        text-align: right;\n",
       "    }\n",
       "</style>\n",
       "<table border=\"1\" class=\"dataframe\">\n",
       "  <thead>\n",
       "    <tr style=\"text-align: right;\">\n",
       "      <th></th>\n",
       "      <th>MPG</th>\n",
       "      <th>Cylinders</th>\n",
       "      <th>Displacement</th>\n",
       "      <th>Horsepower</th>\n",
       "      <th>Weight</th>\n",
       "      <th>Acceleration</th>\n",
       "      <th>Model Year</th>\n",
       "      <th>Origin</th>\n",
       "    </tr>\n",
       "  </thead>\n",
       "  <tbody>\n",
       "    <tr>\n",
       "      <td>393</td>\n",
       "      <td>27.0</td>\n",
       "      <td>4</td>\n",
       "      <td>140.0</td>\n",
       "      <td>86.0</td>\n",
       "      <td>2790.0</td>\n",
       "      <td>15.6</td>\n",
       "      <td>82</td>\n",
       "      <td>1</td>\n",
       "    </tr>\n",
       "    <tr>\n",
       "      <td>394</td>\n",
       "      <td>44.0</td>\n",
       "      <td>4</td>\n",
       "      <td>97.0</td>\n",
       "      <td>52.0</td>\n",
       "      <td>2130.0</td>\n",
       "      <td>24.6</td>\n",
       "      <td>82</td>\n",
       "      <td>2</td>\n",
       "    </tr>\n",
       "    <tr>\n",
       "      <td>395</td>\n",
       "      <td>32.0</td>\n",
       "      <td>4</td>\n",
       "      <td>135.0</td>\n",
       "      <td>84.0</td>\n",
       "      <td>2295.0</td>\n",
       "      <td>11.6</td>\n",
       "      <td>82</td>\n",
       "      <td>1</td>\n",
       "    </tr>\n",
       "    <tr>\n",
       "      <td>396</td>\n",
       "      <td>28.0</td>\n",
       "      <td>4</td>\n",
       "      <td>120.0</td>\n",
       "      <td>79.0</td>\n",
       "      <td>2625.0</td>\n",
       "      <td>18.6</td>\n",
       "      <td>82</td>\n",
       "      <td>1</td>\n",
       "    </tr>\n",
       "    <tr>\n",
       "      <td>397</td>\n",
       "      <td>31.0</td>\n",
       "      <td>4</td>\n",
       "      <td>119.0</td>\n",
       "      <td>82.0</td>\n",
       "      <td>2720.0</td>\n",
       "      <td>19.4</td>\n",
       "      <td>82</td>\n",
       "      <td>1</td>\n",
       "    </tr>\n",
       "  </tbody>\n",
       "</table>\n",
       "</div>"
      ],
      "text/plain": [
       "      MPG  Cylinders  Displacement  Horsepower  Weight  Acceleration  \\\n",
       "393  27.0          4         140.0        86.0  2790.0          15.6   \n",
       "394  44.0          4          97.0        52.0  2130.0          24.6   \n",
       "395  32.0          4         135.0        84.0  2295.0          11.6   \n",
       "396  28.0          4         120.0        79.0  2625.0          18.6   \n",
       "397  31.0          4         119.0        82.0  2720.0          19.4   \n",
       "\n",
       "     Model Year  Origin  \n",
       "393          82       1  \n",
       "394          82       2  \n",
       "395          82       1  \n",
       "396          82       1  \n",
       "397          82       1  "
      ]
     },
     "execution_count": 5,
     "metadata": {},
     "output_type": "execute_result"
    }
   ],
   "source": [
    "column_names = ['MPG','Cylinders','Displacement','Horsepower','Weight',\n",
    "                'Acceleration', 'Model Year', 'Origin']\n",
    "raw_dataset = pd.read_csv(dataset_path, names=column_names,\n",
    "                      na_values = \"?\", comment='\\t',\n",
    "                      sep=\" \", skipinitialspace=True)\n",
    "\n",
    "dataset = raw_dataset.copy()\n",
    "dataset.tail()"
   ]
  },
  {
   "cell_type": "markdown",
   "metadata": {},
   "source": [
    "#### Clean The Dataset"
   ]
  },
  {
   "cell_type": "code",
   "execution_count": 6,
   "metadata": {},
   "outputs": [
    {
     "data": {
      "text/plain": [
       "MPG             0\n",
       "Cylinders       0\n",
       "Displacement    0\n",
       "Horsepower      6\n",
       "Weight          0\n",
       "Acceleration    0\n",
       "Model Year      0\n",
       "Origin          0\n",
       "dtype: int64"
      ]
     },
     "execution_count": 6,
     "metadata": {},
     "output_type": "execute_result"
    }
   ],
   "source": [
    "\n",
    "dataset.isna().sum()"
   ]
  },
  {
   "cell_type": "code",
   "execution_count": 7,
   "metadata": {},
   "outputs": [],
   "source": [
    "dataset = dataset.dropna()"
   ]
  },
  {
   "cell_type": "markdown",
   "metadata": {},
   "source": [
    "The \"Origin\" column is really categorical, not numeric. So convert that to a one-hot:"
   ]
  },
  {
   "cell_type": "code",
   "execution_count": 8,
   "metadata": {},
   "outputs": [],
   "source": [
    "origin = dataset.pop('Origin')"
   ]
  },
  {
   "cell_type": "code",
   "execution_count": 9,
   "metadata": {},
   "outputs": [
    {
     "data": {
      "text/html": [
       "<div>\n",
       "<style scoped>\n",
       "    .dataframe tbody tr th:only-of-type {\n",
       "        vertical-align: middle;\n",
       "    }\n",
       "\n",
       "    .dataframe tbody tr th {\n",
       "        vertical-align: top;\n",
       "    }\n",
       "\n",
       "    .dataframe thead th {\n",
       "        text-align: right;\n",
       "    }\n",
       "</style>\n",
       "<table border=\"1\" class=\"dataframe\">\n",
       "  <thead>\n",
       "    <tr style=\"text-align: right;\">\n",
       "      <th></th>\n",
       "      <th>MPG</th>\n",
       "      <th>Cylinders</th>\n",
       "      <th>Displacement</th>\n",
       "      <th>Horsepower</th>\n",
       "      <th>Weight</th>\n",
       "      <th>Acceleration</th>\n",
       "      <th>Model Year</th>\n",
       "      <th>USA</th>\n",
       "      <th>Europe</th>\n",
       "      <th>Japan</th>\n",
       "    </tr>\n",
       "  </thead>\n",
       "  <tbody>\n",
       "    <tr>\n",
       "      <td>393</td>\n",
       "      <td>27.0</td>\n",
       "      <td>4</td>\n",
       "      <td>140.0</td>\n",
       "      <td>86.0</td>\n",
       "      <td>2790.0</td>\n",
       "      <td>15.6</td>\n",
       "      <td>82</td>\n",
       "      <td>1.0</td>\n",
       "      <td>0.0</td>\n",
       "      <td>0.0</td>\n",
       "    </tr>\n",
       "    <tr>\n",
       "      <td>394</td>\n",
       "      <td>44.0</td>\n",
       "      <td>4</td>\n",
       "      <td>97.0</td>\n",
       "      <td>52.0</td>\n",
       "      <td>2130.0</td>\n",
       "      <td>24.6</td>\n",
       "      <td>82</td>\n",
       "      <td>0.0</td>\n",
       "      <td>1.0</td>\n",
       "      <td>0.0</td>\n",
       "    </tr>\n",
       "    <tr>\n",
       "      <td>395</td>\n",
       "      <td>32.0</td>\n",
       "      <td>4</td>\n",
       "      <td>135.0</td>\n",
       "      <td>84.0</td>\n",
       "      <td>2295.0</td>\n",
       "      <td>11.6</td>\n",
       "      <td>82</td>\n",
       "      <td>1.0</td>\n",
       "      <td>0.0</td>\n",
       "      <td>0.0</td>\n",
       "    </tr>\n",
       "    <tr>\n",
       "      <td>396</td>\n",
       "      <td>28.0</td>\n",
       "      <td>4</td>\n",
       "      <td>120.0</td>\n",
       "      <td>79.0</td>\n",
       "      <td>2625.0</td>\n",
       "      <td>18.6</td>\n",
       "      <td>82</td>\n",
       "      <td>1.0</td>\n",
       "      <td>0.0</td>\n",
       "      <td>0.0</td>\n",
       "    </tr>\n",
       "    <tr>\n",
       "      <td>397</td>\n",
       "      <td>31.0</td>\n",
       "      <td>4</td>\n",
       "      <td>119.0</td>\n",
       "      <td>82.0</td>\n",
       "      <td>2720.0</td>\n",
       "      <td>19.4</td>\n",
       "      <td>82</td>\n",
       "      <td>1.0</td>\n",
       "      <td>0.0</td>\n",
       "      <td>0.0</td>\n",
       "    </tr>\n",
       "  </tbody>\n",
       "</table>\n",
       "</div>"
      ],
      "text/plain": [
       "      MPG  Cylinders  Displacement  Horsepower  Weight  Acceleration  \\\n",
       "393  27.0          4         140.0        86.0  2790.0          15.6   \n",
       "394  44.0          4          97.0        52.0  2130.0          24.6   \n",
       "395  32.0          4         135.0        84.0  2295.0          11.6   \n",
       "396  28.0          4         120.0        79.0  2625.0          18.6   \n",
       "397  31.0          4         119.0        82.0  2720.0          19.4   \n",
       "\n",
       "     Model Year  USA  Europe  Japan  \n",
       "393          82  1.0     0.0    0.0  \n",
       "394          82  0.0     1.0    0.0  \n",
       "395          82  1.0     0.0    0.0  \n",
       "396          82  1.0     0.0    0.0  \n",
       "397          82  1.0     0.0    0.0  "
      ]
     },
     "execution_count": 9,
     "metadata": {},
     "output_type": "execute_result"
    }
   ],
   "source": [
    "dataset['USA'] = (origin == 1)*1.0\n",
    "dataset['Europe'] = (origin == 2)*1.0\n",
    "dataset['Japan'] = (origin == 3)*1.0\n",
    "dataset.tail()"
   ]
  },
  {
   "cell_type": "code",
   "execution_count": 10,
   "metadata": {},
   "outputs": [],
   "source": [
    "train_dataset = dataset.sample(frac=0.8,random_state=0)\n",
    "test_dataset = dataset.drop(train_dataset.index)"
   ]
  },
  {
   "cell_type": "code",
   "execution_count": 11,
   "metadata": {},
   "outputs": [
    {
     "data": {
      "text/html": [
       "<div>\n",
       "<style scoped>\n",
       "    .dataframe tbody tr th:only-of-type {\n",
       "        vertical-align: middle;\n",
       "    }\n",
       "\n",
       "    .dataframe tbody tr th {\n",
       "        vertical-align: top;\n",
       "    }\n",
       "\n",
       "    .dataframe thead th {\n",
       "        text-align: right;\n",
       "    }\n",
       "</style>\n",
       "<table border=\"1\" class=\"dataframe\">\n",
       "  <thead>\n",
       "    <tr style=\"text-align: right;\">\n",
       "      <th></th>\n",
       "      <th>count</th>\n",
       "      <th>mean</th>\n",
       "      <th>std</th>\n",
       "      <th>min</th>\n",
       "      <th>25%</th>\n",
       "      <th>50%</th>\n",
       "      <th>75%</th>\n",
       "      <th>max</th>\n",
       "    </tr>\n",
       "  </thead>\n",
       "  <tbody>\n",
       "    <tr>\n",
       "      <td>Cylinders</td>\n",
       "      <td>314.0</td>\n",
       "      <td>5.477707</td>\n",
       "      <td>1.699788</td>\n",
       "      <td>3.0</td>\n",
       "      <td>4.00</td>\n",
       "      <td>4.0</td>\n",
       "      <td>8.00</td>\n",
       "      <td>8.0</td>\n",
       "    </tr>\n",
       "    <tr>\n",
       "      <td>Displacement</td>\n",
       "      <td>314.0</td>\n",
       "      <td>195.318471</td>\n",
       "      <td>104.331589</td>\n",
       "      <td>68.0</td>\n",
       "      <td>105.50</td>\n",
       "      <td>151.0</td>\n",
       "      <td>265.75</td>\n",
       "      <td>455.0</td>\n",
       "    </tr>\n",
       "    <tr>\n",
       "      <td>Horsepower</td>\n",
       "      <td>314.0</td>\n",
       "      <td>104.869427</td>\n",
       "      <td>38.096214</td>\n",
       "      <td>46.0</td>\n",
       "      <td>76.25</td>\n",
       "      <td>94.5</td>\n",
       "      <td>128.00</td>\n",
       "      <td>225.0</td>\n",
       "    </tr>\n",
       "    <tr>\n",
       "      <td>Weight</td>\n",
       "      <td>314.0</td>\n",
       "      <td>2990.251592</td>\n",
       "      <td>843.898596</td>\n",
       "      <td>1649.0</td>\n",
       "      <td>2256.50</td>\n",
       "      <td>2822.5</td>\n",
       "      <td>3608.00</td>\n",
       "      <td>5140.0</td>\n",
       "    </tr>\n",
       "    <tr>\n",
       "      <td>Acceleration</td>\n",
       "      <td>314.0</td>\n",
       "      <td>15.559236</td>\n",
       "      <td>2.789230</td>\n",
       "      <td>8.0</td>\n",
       "      <td>13.80</td>\n",
       "      <td>15.5</td>\n",
       "      <td>17.20</td>\n",
       "      <td>24.8</td>\n",
       "    </tr>\n",
       "    <tr>\n",
       "      <td>Model Year</td>\n",
       "      <td>314.0</td>\n",
       "      <td>75.898089</td>\n",
       "      <td>3.675642</td>\n",
       "      <td>70.0</td>\n",
       "      <td>73.00</td>\n",
       "      <td>76.0</td>\n",
       "      <td>79.00</td>\n",
       "      <td>82.0</td>\n",
       "    </tr>\n",
       "    <tr>\n",
       "      <td>USA</td>\n",
       "      <td>314.0</td>\n",
       "      <td>0.624204</td>\n",
       "      <td>0.485101</td>\n",
       "      <td>0.0</td>\n",
       "      <td>0.00</td>\n",
       "      <td>1.0</td>\n",
       "      <td>1.00</td>\n",
       "      <td>1.0</td>\n",
       "    </tr>\n",
       "    <tr>\n",
       "      <td>Europe</td>\n",
       "      <td>314.0</td>\n",
       "      <td>0.178344</td>\n",
       "      <td>0.383413</td>\n",
       "      <td>0.0</td>\n",
       "      <td>0.00</td>\n",
       "      <td>0.0</td>\n",
       "      <td>0.00</td>\n",
       "      <td>1.0</td>\n",
       "    </tr>\n",
       "    <tr>\n",
       "      <td>Japan</td>\n",
       "      <td>314.0</td>\n",
       "      <td>0.197452</td>\n",
       "      <td>0.398712</td>\n",
       "      <td>0.0</td>\n",
       "      <td>0.00</td>\n",
       "      <td>0.0</td>\n",
       "      <td>0.00</td>\n",
       "      <td>1.0</td>\n",
       "    </tr>\n",
       "  </tbody>\n",
       "</table>\n",
       "</div>"
      ],
      "text/plain": [
       "              count         mean         std     min      25%     50%  \\\n",
       "Cylinders     314.0     5.477707    1.699788     3.0     4.00     4.0   \n",
       "Displacement  314.0   195.318471  104.331589    68.0   105.50   151.0   \n",
       "Horsepower    314.0   104.869427   38.096214    46.0    76.25    94.5   \n",
       "Weight        314.0  2990.251592  843.898596  1649.0  2256.50  2822.5   \n",
       "Acceleration  314.0    15.559236    2.789230     8.0    13.80    15.5   \n",
       "Model Year    314.0    75.898089    3.675642    70.0    73.00    76.0   \n",
       "USA           314.0     0.624204    0.485101     0.0     0.00     1.0   \n",
       "Europe        314.0     0.178344    0.383413     0.0     0.00     0.0   \n",
       "Japan         314.0     0.197452    0.398712     0.0     0.00     0.0   \n",
       "\n",
       "                  75%     max  \n",
       "Cylinders        8.00     8.0  \n",
       "Displacement   265.75   455.0  \n",
       "Horsepower     128.00   225.0  \n",
       "Weight        3608.00  5140.0  \n",
       "Acceleration    17.20    24.8  \n",
       "Model Year      79.00    82.0  \n",
       "USA              1.00     1.0  \n",
       "Europe           0.00     1.0  \n",
       "Japan            0.00     1.0  "
      ]
     },
     "execution_count": 11,
     "metadata": {},
     "output_type": "execute_result"
    }
   ],
   "source": [
    "train_stats = train_dataset.describe()\n",
    "train_stats.pop(\"MPG\")\n",
    "train_stats = train_stats.transpose()\n",
    "train_stats"
   ]
  },
  {
   "cell_type": "code",
   "execution_count": 12,
   "metadata": {},
   "outputs": [],
   "source": [
    "train_labels = train_dataset.pop('MPG')\n",
    "test_labels = test_dataset.pop('MPG')"
   ]
  },
  {
   "cell_type": "markdown",
   "metadata": {},
   "source": [
    "#### Normalization or Data Scaling"
   ]
  },
  {
   "cell_type": "markdown",
   "metadata": {},
   "source": [
    "It is good practice to normalize features that use different scales and ranges. Although the model might converge without feature normalization, it makes training more difficult, and it makes the resulting model dependent on the choice of units used in the input."
   ]
  },
  {
   "cell_type": "code",
   "execution_count": 13,
   "metadata": {},
   "outputs": [],
   "source": [
    "def norm(x):\n",
    "  return (x - train_stats['mean']) / train_stats['std']"
   ]
  },
  {
   "cell_type": "code",
   "execution_count": 14,
   "metadata": {},
   "outputs": [],
   "source": [
    "normed_train_data = norm(train_dataset)\n",
    "normed_test_data = norm(test_dataset)"
   ]
  },
  {
   "cell_type": "markdown",
   "metadata": {},
   "source": [
    "#### Modelling"
   ]
  },
  {
   "cell_type": "markdown",
   "metadata": {},
   "source": [
    "##### Build The Model"
   ]
  },
  {
   "cell_type": "code",
   "execution_count": 93,
   "metadata": {},
   "outputs": [],
   "source": [
    "keras.backend.clear_session()"
   ]
  },
  {
   "cell_type": "code",
   "execution_count": 94,
   "metadata": {},
   "outputs": [],
   "source": [
    "input_shape = [len(train_dataset.keys())]\n",
    "model = keras.Sequential()\n",
    "model.add(layers.Dense(64, activation=tf.nn.relu, input_shape=input_shape))\n",
    "model.add(layers.Dense(64, activation=tf.nn.relu))\n",
    "model.add(layers.Dense(1))"
   ]
  },
  {
   "cell_type": "code",
   "execution_count": 95,
   "metadata": {},
   "outputs": [
    {
     "name": "stdout",
     "output_type": "stream",
     "text": [
      "Model: \"sequential\"\n",
      "_________________________________________________________________\n",
      "Layer (type)                 Output Shape              Param #   \n",
      "=================================================================\n",
      "dense (Dense)                (None, 64)                640       \n",
      "_________________________________________________________________\n",
      "dense_1 (Dense)              (None, 64)                4160      \n",
      "_________________________________________________________________\n",
      "dense_2 (Dense)              (None, 1)                 65        \n",
      "=================================================================\n",
      "Total params: 4,865\n",
      "Trainable params: 4,865\n",
      "Non-trainable params: 0\n",
      "_________________________________________________________________\n"
     ]
    }
   ],
   "source": [
    "model.summary()"
   ]
  },
  {
   "cell_type": "code",
   "execution_count": 96,
   "metadata": {},
   "outputs": [
    {
     "data": {
      "text/plain": [
       "[<tf.Variable 'dense/kernel:0' shape=(9, 64) dtype=float32, numpy=\n",
       " array([[ 0.12745306, -0.20249951, -0.23590034, -0.08433336,  0.01341984,\n",
       "         -0.07301106,  0.02326357,  0.27705982,  0.18110955, -0.02006078,\n",
       "          0.21929207, -0.03517815, -0.1927549 ,  0.03672013, -0.09653407,\n",
       "          0.06004453, -0.0104813 ,  0.23974231, -0.10854088, -0.22705841,\n",
       "         -0.15583375, -0.07702368,  0.13368332, -0.15772322, -0.18502027,\n",
       "         -0.21743685, -0.12985756,  0.03053448,  0.00694105, -0.11449814,\n",
       "          0.00786251,  0.07551596, -0.251015  , -0.1911741 ,  0.06123215,\n",
       "         -0.00904816,  0.1712611 , -0.2740897 ,  0.2463744 ,  0.15916553,\n",
       "          0.19038007, -0.19677067,  0.15238947,  0.22301295,  0.03284433,\n",
       "          0.1980021 , -0.2676081 , -0.12367487,  0.18059602, -0.16067708,\n",
       "          0.06465003, -0.21212107, -0.05466975,  0.25144908, -0.22097182,\n",
       "          0.07272241,  0.1079534 ,  0.16327584,  0.194938  , -0.2840129 ,\n",
       "         -0.04426746,  0.13596621, -0.2236615 , -0.03328884],\n",
       "        [-0.04582781,  0.20643032, -0.01490432, -0.12094706, -0.08774115,\n",
       "         -0.13564654, -0.23244527, -0.13530996,  0.1652219 ,  0.1431742 ,\n",
       "          0.07687789,  0.00360328,  0.22524789,  0.24070933, -0.08229168,\n",
       "          0.15350553, -0.07939476, -0.10234684,  0.21855852,  0.07915661,\n",
       "         -0.05277297,  0.03369436, -0.1589347 ,  0.08292907, -0.15829663,\n",
       "         -0.21009168,  0.22436443,  0.04962733, -0.21032831, -0.08421367,\n",
       "         -0.08732809, -0.15621181,  0.18702272, -0.15935357,  0.26002625,\n",
       "         -0.01368588, -0.14263202,  0.04974106,  0.27335307,  0.20377809,\n",
       "         -0.22255425,  0.0920665 ,  0.10702667, -0.09670462, -0.15560669,\n",
       "         -0.21790424, -0.11268453, -0.10111834, -0.01480302, -0.2679379 ,\n",
       "          0.26660928, -0.27533653,  0.04617196,  0.12134787, -0.1708648 ,\n",
       "          0.15330246,  0.15018511,  0.1897178 , -0.00611925, -0.10835052,\n",
       "         -0.25218567, -0.25643808, -0.00343382,  0.23329476],\n",
       "        [ 0.24876389, -0.195492  , -0.22229096, -0.11614789,  0.17568544,\n",
       "         -0.15555152, -0.11588986, -0.25679845, -0.15217403, -0.06172517,\n",
       "         -0.11976045,  0.2658433 , -0.17791735, -0.10429256,  0.18905216,\n",
       "          0.08808345, -0.1654971 ,  0.1489717 , -0.05422129, -0.22330812,\n",
       "          0.28545454, -0.00388974, -0.1126468 , -0.1674992 ,  0.2003192 ,\n",
       "         -0.01834533, -0.1188107 ,  0.23955885, -0.08671558, -0.28650373,\n",
       "          0.23917052, -0.09806018, -0.0739643 ,  0.22565159, -0.20552635,\n",
       "          0.07882538,  0.01064938, -0.2535234 , -0.02808139,  0.09024838,\n",
       "          0.22701356,  0.08049798, -0.22704351, -0.10878886, -0.25234705,\n",
       "          0.11890736, -0.22430094,  0.08809385, -0.15868583,  0.0654456 ,\n",
       "          0.09581959, -0.20974308,  0.0587858 , -0.10076208, -0.28165162,\n",
       "          0.15365651,  0.09981117,  0.23343864, -0.12775545, -0.25983977,\n",
       "         -0.06196769, -0.16783023, -0.14914772,  0.24557981],\n",
       "        [ 0.07590804, -0.03166524, -0.09960543,  0.02453411, -0.14141048,\n",
       "         -0.07297933,  0.11737394, -0.06572652, -0.15346014, -0.12941511,\n",
       "          0.1187917 ,  0.07906654,  0.19227874, -0.03616038,  0.15449399,\n",
       "         -0.2673263 ,  0.25558487, -0.05292314, -0.2681594 ,  0.19715783,\n",
       "          0.01173666, -0.06877811,  0.13717455, -0.0085029 ,  0.17134786,\n",
       "         -0.04360479, -0.08128129,  0.09791973, -0.04806896, -0.26161283,\n",
       "         -0.03928812,  0.08783787, -0.15875944,  0.06194076, -0.24582124,\n",
       "          0.18805927, -0.24053821,  0.10615632, -0.12949488, -0.05628082,\n",
       "         -0.06223124,  0.16360387, -0.0157091 ,  0.005658  , -0.02033412,\n",
       "         -0.26851323, -0.1533166 , -0.22635601,  0.08982372,  0.06305119,\n",
       "         -0.13285844, -0.21310768,  0.15073371, -0.17718202,  0.09943461,\n",
       "          0.09936893, -0.15410307,  0.18796092, -0.1054631 , -0.09505028,\n",
       "         -0.16616264, -0.0981459 , -0.19931912, -0.01750603],\n",
       "        [-0.04210144,  0.07805136,  0.12867156, -0.10226905, -0.17614312,\n",
       "         -0.1970259 ,  0.22988626, -0.0495874 ,  0.19303977, -0.05568212,\n",
       "         -0.12138438, -0.01520377, -0.03517398,  0.05478275,  0.08821544,\n",
       "          0.07259724, -0.21142694,  0.17329761, -0.06264922, -0.14151841,\n",
       "         -0.13580613,  0.24981597, -0.19282441,  0.20327318,  0.12888867,\n",
       "         -0.03871232,  0.13740885, -0.20815793,  0.02085173, -0.11253485,\n",
       "          0.04617122,  0.21358296, -0.02783456, -0.03402409,  0.00384244,\n",
       "          0.10737902,  0.06891182,  0.08253577,  0.01155832,  0.14795756,\n",
       "          0.218945  , -0.22948779,  0.00246239, -0.23926932, -0.01303524,\n",
       "         -0.28650355,  0.20267135, -0.27485278,  0.17990455,  0.13323513,\n",
       "          0.26297072, -0.09485671,  0.06514812, -0.184834  ,  0.05149963,\n",
       "         -0.00692773,  0.01176557,  0.08996129,  0.17619985,  0.2797461 ,\n",
       "          0.25971976,  0.26822802,  0.28059182, -0.07504719],\n",
       "        [-0.15681858, -0.25243852, -0.22238037,  0.23112121,  0.18103874,\n",
       "          0.05366373, -0.08556452, -0.10146216, -0.2733325 ,  0.10880759,\n",
       "         -0.26395878,  0.2229552 ,  0.25753877, -0.07881336, -0.2724731 ,\n",
       "          0.18818724, -0.1227476 , -0.03623605,  0.22928122, -0.00626233,\n",
       "         -0.27753714, -0.14801902, -0.2046716 , -0.27998942, -0.28461906,\n",
       "          0.02439848,  0.08847436, -0.2365227 ,  0.16693324, -0.1451165 ,\n",
       "          0.02149534, -0.09330627, -0.03874868,  0.17337006, -0.02548927,\n",
       "          0.27338555,  0.02993017,  0.21660665,  0.27658257,  0.09176853,\n",
       "         -0.21256939, -0.00554702,  0.14134562, -0.28245515, -0.19903082,\n",
       "          0.2551007 ,  0.27153262,  0.16477871,  0.09219924, -0.24303436,\n",
       "          0.04372025, -0.22607392,  0.26701716,  0.16484916,  0.19038272,\n",
       "         -0.2079932 ,  0.02135593,  0.21096769,  0.16553414,  0.11627018,\n",
       "         -0.03878887, -0.25677642, -0.14484364,  0.2511281 ],\n",
       "        [-0.19890484,  0.04161012, -0.04497416, -0.12366462,  0.18878976,\n",
       "          0.22376606,  0.27329752, -0.24054073,  0.13537407,  0.25161627,\n",
       "          0.11149752,  0.06610006, -0.1611906 ,  0.21904299, -0.2611946 ,\n",
       "          0.14928669,  0.09651363,  0.22406062, -0.03754076,  0.10984969,\n",
       "          0.17486924, -0.06747723,  0.14849412, -0.12340084, -0.11887707,\n",
       "          0.19347492, -0.1310704 , -0.19925426,  0.14987245, -0.06337246,\n",
       "          0.12949836, -0.1491998 , -0.19923621,  0.13166556, -0.07171413,\n",
       "         -0.10788134, -0.24205686,  0.19514984, -0.18737665, -0.06119728,\n",
       "          0.11341125,  0.10622543, -0.09038058, -0.19587827,  0.27774307,\n",
       "          0.2273204 , -0.11853817, -0.04995301,  0.21570405, -0.07762054,\n",
       "          0.03350195, -0.00471488, -0.23896322, -0.05456538, -0.01027578,\n",
       "          0.20478296,  0.25992134,  0.28145036, -0.23729277,  0.16101721,\n",
       "          0.16900253,  0.2752438 ,  0.05030653,  0.04620996],\n",
       "        [-0.24050786, -0.01288566, -0.02627584, -0.20933434,  0.16817904,\n",
       "          0.04718173,  0.2295064 ,  0.07648158, -0.03858894, -0.28545767,\n",
       "         -0.20799047, -0.1448599 ,  0.276359  , -0.2177598 ,  0.19693014,\n",
       "          0.23979393,  0.21680757, -0.17677286,  0.03511712,  0.17271075,\n",
       "          0.07095522,  0.17666799, -0.05414501, -0.23687936, -0.179263  ,\n",
       "          0.03553072, -0.00251818,  0.19475633, -0.06983793, -0.14213899,\n",
       "          0.00846189, -0.06949554,  0.20188147,  0.28564593,  0.28463218,\n",
       "          0.11881474,  0.22913387,  0.2779071 ,  0.22393063,  0.05607781,\n",
       "         -0.26404366, -0.2231183 , -0.06709965, -0.17009932, -0.05158302,\n",
       "          0.01671752,  0.09791979, -0.14902394,  0.23470482,  0.27185944,\n",
       "         -0.1861699 ,  0.00174674, -0.13597818,  0.18965223,  0.17915255,\n",
       "         -0.08684908, -0.23430528, -0.28341484,  0.01896358, -0.258456  ,\n",
       "          0.22892341,  0.10180315, -0.12485108,  0.08648482],\n",
       "        [ 0.06059176, -0.1723162 ,  0.16829586, -0.11737604,  0.23092285,\n",
       "          0.25507548, -0.25460616, -0.1185239 ,  0.12828338,  0.20433393,\n",
       "          0.06128177,  0.11402833,  0.27596256,  0.12901592,  0.19325653,\n",
       "         -0.1432359 ,  0.27947643,  0.23535362,  0.06328455, -0.14964396,\n",
       "          0.08629733,  0.09317866,  0.02546826, -0.04331771, -0.13224135,\n",
       "          0.02483553, -0.2556519 ,  0.2776673 ,  0.09788084, -0.28124574,\n",
       "          0.14278397, -0.01144677,  0.16768375, -0.08149694,  0.11904126,\n",
       "          0.01174131, -0.09017812, -0.18363497,  0.26447383,  0.27677235,\n",
       "         -0.11493218, -0.07545418,  0.278361  , -0.15365304,  0.24286261,\n",
       "         -0.17778426, -0.05923638,  0.12702695,  0.2553784 ,  0.26274368,\n",
       "         -0.24209118, -0.25117603, -0.25167638,  0.05407938, -0.02938023,\n",
       "          0.08558851,  0.01593029,  0.16564035, -0.1315909 ,  0.18623215,\n",
       "         -0.05963747,  0.2677342 , -0.20446175,  0.06827715]],\n",
       "       dtype=float32)>,\n",
       " <tf.Variable 'dense/bias:0' shape=(64,) dtype=float32, numpy=\n",
       " array([0., 0., 0., 0., 0., 0., 0., 0., 0., 0., 0., 0., 0., 0., 0., 0., 0.,\n",
       "        0., 0., 0., 0., 0., 0., 0., 0., 0., 0., 0., 0., 0., 0., 0., 0., 0.,\n",
       "        0., 0., 0., 0., 0., 0., 0., 0., 0., 0., 0., 0., 0., 0., 0., 0., 0.,\n",
       "        0., 0., 0., 0., 0., 0., 0., 0., 0., 0., 0., 0., 0.], dtype=float32)>]"
      ]
     },
     "execution_count": 96,
     "metadata": {},
     "output_type": "execute_result"
    }
   ],
   "source": [
    "model.layers[0].weights"
   ]
  },
  {
   "cell_type": "markdown",
   "metadata": {},
   "source": [
    "##### Let us try to make prediction on this untrained model\n",
    "Take a batch of 10 examples from the training data and call model.predict on it."
   ]
  },
  {
   "cell_type": "code",
   "execution_count": 97,
   "metadata": {},
   "outputs": [
    {
     "data": {
      "text/plain": [
       "array([[-0.7754645 ],\n",
       "       [-0.53150856],\n",
       "       [ 0.14294146],\n",
       "       [-0.9744833 ],\n",
       "       [-0.98355955],\n",
       "       [-0.2179513 ],\n",
       "       [-1.0799592 ],\n",
       "       [-0.97448826],\n",
       "       [-0.04965307],\n",
       "       [-1.0112929 ]], dtype=float32)"
      ]
     },
     "execution_count": 97,
     "metadata": {},
     "output_type": "execute_result"
    }
   ],
   "source": [
    "example_batch = normed_train_data[:10]\n",
    "example_result = model.predict(example_batch)\n",
    "example_result"
   ]
  },
  {
   "cell_type": "markdown",
   "metadata": {},
   "source": [
    "# [!Back to Slide](https://docs.google.com/presentation/d/19xm7i_UvxSBtRbxTI9DCdRsJ2vKoL9p4hiRq4vgJ3q8/edit#slide=id.g62c5f47c05_4_13)"
   ]
  },
  {
   "cell_type": "code",
   "execution_count": 98,
   "metadata": {},
   "outputs": [
    {
     "data": {
      "text/plain": [
       "['BinaryCrossentropy',\n",
       " 'CategoricalCrossentropy',\n",
       " 'CategoricalHinge',\n",
       " 'CosineSimilarity',\n",
       " 'Hinge',\n",
       " 'Huber',\n",
       " 'KLD',\n",
       " 'KLDivergence',\n",
       " 'LogCosh',\n",
       " 'Loss',\n",
       " 'MAE',\n",
       " 'MAPE',\n",
       " 'MSE',\n",
       " 'MSLE',\n",
       " 'MeanAbsoluteError',\n",
       " 'MeanAbsolutePercentageError',\n",
       " 'MeanSquaredError',\n",
       " 'MeanSquaredLogarithmicError',\n",
       " 'Poisson',\n",
       " 'Reduction',\n",
       " 'SparseCategoricalCrossentropy',\n",
       " 'SquaredHinge',\n",
       " 'deserialize',\n",
       " 'get',\n",
       " 'hinge',\n",
       " 'kld',\n",
       " 'logcosh',\n",
       " 'mae',\n",
       " 'mape',\n",
       " 'mse',\n",
       " 'msle',\n",
       " 'poisson',\n",
       " 'serialize']"
      ]
     },
     "execution_count": 98,
     "metadata": {},
     "output_type": "execute_result"
    }
   ],
   "source": [
    "list(filter(lambda x: \"_\" not in x, dir(keras.losses)))"
   ]
  },
  {
   "cell_type": "code",
   "execution_count": 99,
   "metadata": {},
   "outputs": [
    {
     "data": {
      "text/plain": [
       "['Adadelta',\n",
       " 'Adagrad',\n",
       " 'Adam',\n",
       " 'Adamax',\n",
       " 'Ftrl',\n",
       " 'Nadam',\n",
       " 'Optimizer',\n",
       " 'RMSprop',\n",
       " 'SGD',\n",
       " 'deserialize',\n",
       " 'get',\n",
       " 'schedules',\n",
       " 'serialize']"
      ]
     },
     "execution_count": 99,
     "metadata": {},
     "output_type": "execute_result"
    }
   ],
   "source": [
    "list(filter(lambda x: \"_\" not in x, dir(keras.optimizers)))"
   ]
  },
  {
   "cell_type": "code",
   "execution_count": 100,
   "metadata": {},
   "outputs": [],
   "source": [
    "optimizer = tf.keras.optimizers.RMSprop(0.001)"
   ]
  },
  {
   "cell_type": "code",
   "execution_count": 101,
   "metadata": {},
   "outputs": [],
   "source": [
    "model.compile(loss='mean_squared_error',\n",
    "                optimizer=optimizer,\n",
    "                metrics=['mean_absolute_error', 'mean_squared_error'])"
   ]
  },
  {
   "cell_type": "code",
   "execution_count": 102,
   "metadata": {},
   "outputs": [],
   "source": [
    "class PrintDot(keras.callbacks.Callback):\n",
    "  def on_epoch_end(self, epoch, logs):\n",
    "    if epoch % 100 == 0: print('')\n",
    "    print('.', end='')\n",
    "    \n",
    "logdir = os.path.join(\"logs\", datetime.datetime.now().strftime(\"%Y%m%d-%H%M%S\"))\n",
    "tensorboard_callback = tf.keras.callbacks.TensorBoard(logdir, histogram_freq=1)"
   ]
  },
  {
   "cell_type": "code",
   "execution_count": 103,
   "metadata": {},
   "outputs": [],
   "source": [
    "EPOCHS = 50"
   ]
  },
  {
   "cell_type": "code",
   "execution_count": 104,
   "metadata": {},
   "outputs": [
    {
     "name": "stdout",
     "output_type": "stream",
     "text": [
      "WARNING:tensorflow:Falling back from v2 loop because of error: Failed to find data adapter that can handle input: <class 'pandas.core.frame.DataFrame'>, <class 'NoneType'>\n",
      "\n",
      ".................................................."
     ]
    }
   ],
   "source": [
    "history = model.fit(\n",
    "  normed_train_data, train_labels,\n",
    "  epochs=EPOCHS, validation_split = 0.2, verbose=0,\n",
    "  callbacks=[PrintDot(), tensorboard_callback])"
   ]
  },
  {
   "cell_type": "markdown",
   "metadata": {},
   "source": [
    "Visualize the model's training progress using the stats stored in the history object.\n",
    "\n"
   ]
  },
  {
   "cell_type": "code",
   "execution_count": 105,
   "metadata": {},
   "outputs": [
    {
     "data": {
      "text/html": [
       "<div>\n",
       "<style scoped>\n",
       "    .dataframe tbody tr th:only-of-type {\n",
       "        vertical-align: middle;\n",
       "    }\n",
       "\n",
       "    .dataframe tbody tr th {\n",
       "        vertical-align: top;\n",
       "    }\n",
       "\n",
       "    .dataframe thead th {\n",
       "        text-align: right;\n",
       "    }\n",
       "</style>\n",
       "<table border=\"1\" class=\"dataframe\">\n",
       "  <thead>\n",
       "    <tr style=\"text-align: right;\">\n",
       "      <th></th>\n",
       "      <th>loss</th>\n",
       "      <th>mean_absolute_error</th>\n",
       "      <th>mean_squared_error</th>\n",
       "      <th>val_loss</th>\n",
       "      <th>val_mean_absolute_error</th>\n",
       "      <th>val_mean_squared_error</th>\n",
       "      <th>epoch</th>\n",
       "    </tr>\n",
       "  </thead>\n",
       "  <tbody>\n",
       "    <tr>\n",
       "      <td>45</td>\n",
       "      <td>7.095396</td>\n",
       "      <td>1.911750</td>\n",
       "      <td>7.095396</td>\n",
       "      <td>8.373540</td>\n",
       "      <td>2.204605</td>\n",
       "      <td>8.373540</td>\n",
       "      <td>45</td>\n",
       "    </tr>\n",
       "    <tr>\n",
       "      <td>46</td>\n",
       "      <td>7.154440</td>\n",
       "      <td>1.910376</td>\n",
       "      <td>7.154440</td>\n",
       "      <td>8.552183</td>\n",
       "      <td>2.196117</td>\n",
       "      <td>8.552184</td>\n",
       "      <td>46</td>\n",
       "    </tr>\n",
       "    <tr>\n",
       "      <td>47</td>\n",
       "      <td>7.153687</td>\n",
       "      <td>1.928695</td>\n",
       "      <td>7.153687</td>\n",
       "      <td>8.726362</td>\n",
       "      <td>2.207462</td>\n",
       "      <td>8.726362</td>\n",
       "      <td>47</td>\n",
       "    </tr>\n",
       "    <tr>\n",
       "      <td>48</td>\n",
       "      <td>7.016494</td>\n",
       "      <td>1.910855</td>\n",
       "      <td>7.016494</td>\n",
       "      <td>8.613849</td>\n",
       "      <td>2.174714</td>\n",
       "      <td>8.613849</td>\n",
       "      <td>48</td>\n",
       "    </tr>\n",
       "    <tr>\n",
       "      <td>49</td>\n",
       "      <td>7.066881</td>\n",
       "      <td>1.929026</td>\n",
       "      <td>7.066882</td>\n",
       "      <td>8.480313</td>\n",
       "      <td>2.263385</td>\n",
       "      <td>8.480312</td>\n",
       "      <td>49</td>\n",
       "    </tr>\n",
       "  </tbody>\n",
       "</table>\n",
       "</div>"
      ],
      "text/plain": [
       "        loss  mean_absolute_error  mean_squared_error  val_loss  \\\n",
       "45  7.095396             1.911750            7.095396  8.373540   \n",
       "46  7.154440             1.910376            7.154440  8.552183   \n",
       "47  7.153687             1.928695            7.153687  8.726362   \n",
       "48  7.016494             1.910855            7.016494  8.613849   \n",
       "49  7.066881             1.929026            7.066882  8.480313   \n",
       "\n",
       "    val_mean_absolute_error  val_mean_squared_error  epoch  \n",
       "45                 2.204605                8.373540     45  \n",
       "46                 2.196117                8.552184     46  \n",
       "47                 2.207462                8.726362     47  \n",
       "48                 2.174714                8.613849     48  \n",
       "49                 2.263385                8.480312     49  "
      ]
     },
     "execution_count": 105,
     "metadata": {},
     "output_type": "execute_result"
    }
   ],
   "source": [
    "hist = pd.DataFrame(history.history)\n",
    "hist['epoch'] = history.epoch\n",
    "hist.tail()"
   ]
  },
  {
   "cell_type": "code",
   "execution_count": 106,
   "metadata": {},
   "outputs": [],
   "source": [
    "def plot_history(history):\n",
    "  hist = pd.DataFrame(history.history)\n",
    "  hist['epoch'] = history.epoch\n",
    "\n",
    "  plt.figure()\n",
    "  plt.xlabel('Epoch')\n",
    "  plt.ylabel('Mean Abs Error [MPG]')\n",
    "  plt.plot(hist['epoch'], hist['mean_absolute_error'],\n",
    "           label='Train Error')\n",
    "  plt.plot(hist['epoch'], hist['val_mean_absolute_error'],\n",
    "           label = 'Val Error')\n",
    "  plt.ylim([0,5])\n",
    "  plt.legend()\n",
    "\n",
    "  plt.figure()\n",
    "  plt.xlabel('Epoch')\n",
    "  plt.ylabel('Mean Square Error [$MPG^2$]')\n",
    "  plt.plot(hist['epoch'], hist['mean_squared_error'],\n",
    "           label='Train Error')\n",
    "  plt.plot(hist['epoch'], hist['val_mean_squared_error'],\n",
    "           label = 'Val Error')\n",
    "  plt.ylim([0,20])\n",
    "  plt.legend()\n",
    "  plt.show()"
   ]
  },
  {
   "cell_type": "code",
   "execution_count": 107,
   "metadata": {},
   "outputs": [
    {
     "data": {
      "image/png": "[encoded data removed]",
      "text/plain": [
       "<Figure size 432x288 with 1 Axes>"
      ]
     },
     "metadata": {
      "needs_background": "light"
     },
     "output_type": "display_data"
    },
    {
     "data": {
      "image/png": "[encoded data removed]",
      "text/plain": [
       "<Figure size 432x288 with 1 Axes>"
      ]
     },
     "metadata": {
      "needs_background": "light"
     },
     "output_type": "display_data"
    }
   ],
   "source": [
    "plot_history(history)"
   ]
  },
  {
   "cell_type": "markdown",
   "metadata": {},
   "source": [
    "### Make Predictions!!\n",
    "Predict MPG values for Test data set"
   ]
  },
  {
   "cell_type": "code",
   "execution_count": 108,
   "metadata": {},
   "outputs": [
    {
     "name": "stdout",
     "output_type": "stream",
     "text": [
      "WARNING:tensorflow:Falling back from v2 loop because of error: Failed to find data adapter that can handle input: <class 'pandas.core.frame.DataFrame'>, <class 'NoneType'>\n"
     ]
    },
    {
     "data": {
      "image/png": "[encoded data removed]",
      "text/plain": [
       "<Figure size 432x288 with 1 Axes>"
      ]
     },
     "metadata": {
      "needs_background": "light"
     },
     "output_type": "display_data"
    }
   ],
   "source": [
    "test_predictions = model.predict(normed_test_data).flatten()\n",
    "\n",
    "plt.scatter(test_labels, test_predictions)\n",
    "plt.xlabel('True Values [MPG]')\n",
    "plt.ylabel('Predictions [MPG]')\n",
    "plt.axis('equal')\n",
    "plt.axis('square')\n",
    "plt.xlim([0,plt.xlim()[1]])\n",
    "plt.ylim([0,plt.ylim()[1]])\n",
    "_ = plt.plot([-100, 100], [-100, 100])"
   ]
  }
 ],
 "metadata": {
  "kernelspec": {
   "display_name": "Python 3",
   "language": "python",
   "name": "python3"
  },
  "language_info": {
   "codemirror_mode": {
    "name": "ipython",
    "version": 3
   },
   "file_extension": ".py",
   "mimetype": "text/x-python",
   "name": "python",
   "nbconvert_exporter": "python",
   "pygments_lexer": "ipython3",
   "version": "3.5.6"
  }
 },
 "nbformat": 4,
 "nbformat_minor": 4
}
